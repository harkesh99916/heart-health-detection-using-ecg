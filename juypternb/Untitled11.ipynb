{
  "nbformat": 4,
  "nbformat_minor": 0,
  "metadata": {
    "colab": {
      "provenance": []
    },
    "kernelspec": {
      "name": "python3",
      "display_name": "Python 3"
    },
    "language_info": {
      "name": "python"
    }
  },
  "cells": [
    {
      "cell_type": "markdown",
      "source": [
        "<h1>Extration of the ECG Features from the Synthetic ECG</h1>"
      ],
      "metadata": {
        "id": "KVP91QlD5Le3"
      }
    },
    {
      "cell_type": "code",
      "source": [
        "pip install neurokit2\n"
      ],
      "metadata": {
        "colab": {
          "base_uri": "https://localhost:8080/"
        },
        "id": "hyfHxJXh8K4M",
        "outputId": "160800aa-5b33-4309-c460-3cbf8486aff1"
      },
      "execution_count": null,
      "outputs": [
        {
          "output_type": "stream",
          "name": "stdout",
          "text": [
            "Collecting neurokit2\n",
            "  Downloading neurokit2-0.2.11-py2.py3-none-any.whl.metadata (37 kB)\n",
            "Requirement already satisfied: requests in /usr/local/lib/python3.11/dist-packages (from neurokit2) (2.32.3)\n",
            "Requirement already satisfied: numpy in /usr/local/lib/python3.11/dist-packages (from neurokit2) (2.0.2)\n",
            "Requirement already satisfied: pandas in /usr/local/lib/python3.11/dist-packages (from neurokit2) (2.2.2)\n",
            "Requirement already satisfied: scipy in /usr/local/lib/python3.11/dist-packages (from neurokit2) (1.15.3)\n",
            "Requirement already satisfied: scikit-learn>=1.0.0 in /usr/local/lib/python3.11/dist-packages (from neurokit2) (1.6.1)\n",
            "Requirement already satisfied: matplotlib>=3.5.0 in /usr/local/lib/python3.11/dist-packages (from neurokit2) (3.10.0)\n",
            "Requirement already satisfied: contourpy>=1.0.1 in /usr/local/lib/python3.11/dist-packages (from matplotlib>=3.5.0->neurokit2) (1.3.2)\n",
            "Requirement already satisfied: cycler>=0.10 in /usr/local/lib/python3.11/dist-packages (from matplotlib>=3.5.0->neurokit2) (0.12.1)\n",
            "Requirement already satisfied: fonttools>=4.22.0 in /usr/local/lib/python3.11/dist-packages (from matplotlib>=3.5.0->neurokit2) (4.58.0)\n",
            "Requirement already satisfied: kiwisolver>=1.3.1 in /usr/local/lib/python3.11/dist-packages (from matplotlib>=3.5.0->neurokit2) (1.4.8)\n",
            "Requirement already satisfied: packaging>=20.0 in /usr/local/lib/python3.11/dist-packages (from matplotlib>=3.5.0->neurokit2) (24.2)\n",
            "Requirement already satisfied: pillow>=8 in /usr/local/lib/python3.11/dist-packages (from matplotlib>=3.5.0->neurokit2) (11.2.1)\n",
            "Requirement already satisfied: pyparsing>=2.3.1 in /usr/local/lib/python3.11/dist-packages (from matplotlib>=3.5.0->neurokit2) (3.2.3)\n",
            "Requirement already satisfied: python-dateutil>=2.7 in /usr/local/lib/python3.11/dist-packages (from matplotlib>=3.5.0->neurokit2) (2.9.0.post0)\n",
            "Requirement already satisfied: joblib>=1.2.0 in /usr/local/lib/python3.11/dist-packages (from scikit-learn>=1.0.0->neurokit2) (1.5.0)\n",
            "Requirement already satisfied: threadpoolctl>=3.1.0 in /usr/local/lib/python3.11/dist-packages (from scikit-learn>=1.0.0->neurokit2) (3.6.0)\n",
            "Requirement already satisfied: pytz>=2020.1 in /usr/local/lib/python3.11/dist-packages (from pandas->neurokit2) (2025.2)\n",
            "Requirement already satisfied: tzdata>=2022.7 in /usr/local/lib/python3.11/dist-packages (from pandas->neurokit2) (2025.2)\n",
            "Requirement already satisfied: charset-normalizer<4,>=2 in /usr/local/lib/python3.11/dist-packages (from requests->neurokit2) (3.4.2)\n",
            "Requirement already satisfied: idna<4,>=2.5 in /usr/local/lib/python3.11/dist-packages (from requests->neurokit2) (3.10)\n",
            "Requirement already satisfied: urllib3<3,>=1.21.1 in /usr/local/lib/python3.11/dist-packages (from requests->neurokit2) (2.4.0)\n",
            "Requirement already satisfied: certifi>=2017.4.17 in /usr/local/lib/python3.11/dist-packages (from requests->neurokit2) (2025.4.26)\n",
            "Requirement already satisfied: six>=1.5 in /usr/local/lib/python3.11/dist-packages (from python-dateutil>=2.7->matplotlib>=3.5.0->neurokit2) (1.17.0)\n",
            "Downloading neurokit2-0.2.11-py2.py3-none-any.whl (696 kB)\n",
            "\u001b[2K   \u001b[90m━━━━━━━━━━━━━━━━━━━━━━━━━━━━━━━━━━━━━━━━\u001b[0m \u001b[32m696.5/696.5 kB\u001b[0m \u001b[31m12.7 MB/s\u001b[0m eta \u001b[36m0:00:00\u001b[0m\n",
            "\u001b[?25hInstalling collected packages: neurokit2\n",
            "Successfully installed neurokit2-0.2.11\n"
          ]
        }
      ]
    },
    {
      "cell_type": "code",
      "execution_count": null,
      "metadata": {
        "colab": {
          "base_uri": "https://localhost:8080/"
        },
        "id": "eQM4qvQ11mcJ",
        "outputId": "c4025b1d-77bb-4ccf-aa52-ee447c125c51"
      },
      "outputs": [
        {
          "output_type": "stream",
          "name": "stdout",
          "text": [
            "✅ ECG saved: synthetic_ecg.csv\n"
          ]
        }
      ],
      "source": [
        "# Generate longer ECG signal (e.g., 20 seconds)\n",
        "import neurokit2 as nk\n",
        "import pandas as pd\n",
        "import matplotlib.pyplot as plt\n",
        "\n",
        "# Longer duration to ensure it's processable\n",
        "ecg_signal = nk.ecg_simulate(duration=20, sampling_rate=250)\n",
        "\n",
        "# Save to CSV\n",
        "df = pd.DataFrame({\"ECG\": ecg_signal})\n",
        "df.to_csv(\"synthetic_ecg.csv\", index=False)\n",
        "print(\"✅ ECG saved: synthetic_ecg.csv\")\n"
      ]
    },
    {
      "cell_type": "code",
      "source": [
        "import pandas as pd\n",
        "import neurokit2 as nk\n",
        "import numpy as np\n",
        "\n",
        "# Load ECG\n",
        "df = pd.read_csv(\"synthetic_ecg.csv\")\n",
        "ecg_signal = df[\"ECG\"]\n",
        "\n",
        "# Process ECG\n",
        "signals, info = nk.ecg_process(ecg_signal, sampling_rate=250)\n",
        "\n",
        "# Extract thalach (max heart rate)\n",
        "thalach = np.max(signals[\"ECG_Rate\"])\n",
        "\n",
        "# Approximate ST segment \"slope\" (custom logic)\n",
        "# Take signal 50ms after R-peaks and 150ms after, calculate average difference\n",
        "rpeaks = info[\"ECG_R_Peaks\"]\n",
        "sampling_rate = 250\n",
        "st_slope_values = []\n",
        "\n",
        "for r in rpeaks:\n",
        "    try:\n",
        "        start = r + int(0.05 * sampling_rate)\n",
        "        end = r + int(0.15 * sampling_rate)\n",
        "        if end < len(ecg_signal):\n",
        "            slope_val = ecg_signal[end] - ecg_signal[start]\n",
        "            st_slope_values.append(slope_val)\n",
        "    except:\n",
        "        continue\n",
        "\n",
        "# Compute average slope\n",
        "slope = np.mean(st_slope_values) if st_slope_values else 0\n",
        "\n",
        "# Categorize slope:\n",
        "# 0 = flat, 1 = upsloping, 2 = downsloping\n",
        "if slope > 0.05:\n",
        "    slope_category = 1  # upsloping\n",
        "elif slope < -0.05:\n",
        "    slope_category = 2  # downsloping\n",
        "else:\n",
        "    slope_category = 0  # flat\n",
        "\n",
        "# Estimate \"oldpeak\" = signal depression after R-peak vs baseline\n",
        "baseline = np.mean(ecg_signal[:250])  # use first second as baseline\n",
        "oldpeak_values = []\n",
        "\n",
        "for r in rpeaks:\n",
        "    try:\n",
        "        offset = r + int(0.1 * sampling_rate)\n",
        "        if offset < len(ecg_signal):\n",
        "            oldpeak_values.append(baseline - ecg_signal[offset])\n",
        "    except:\n",
        "        continue\n",
        "\n",
        "oldpeak = np.mean(oldpeak_values) if oldpeak_values else 0\n",
        "\n",
        "# Final extracted features\n",
        "features = {\n",
        "    \"thalach\": thalach,\n",
        "    \"slope\": slope_category,\n",
        "    \"oldpeak\": oldpeak\n",
        "}\n",
        "\n",
        "print(\"✅ Extracted ECG Features:\")\n",
        "for key, val in features.items():\n",
        "    print(f\"{key}: {val:.2f}\" if key != \"slope\" else f\"{key}: {val}\")\n"
      ],
      "metadata": {
        "colab": {
          "base_uri": "https://localhost:8080/"
        },
        "id": "8Cds-D7n3vCv",
        "outputId": "07987853-4fa4-4488-8df8-8fbc78b3a4c6"
      },
      "execution_count": 7,
      "outputs": [
        {
          "output_type": "stream",
          "name": "stdout",
          "text": [
            "✅ Extracted ECG Features:\n",
            "thalach: 72.12\n",
            "slope: 1\n",
            "oldpeak: 0.12\n"
          ]
        }
      ]
    }
  ]
}